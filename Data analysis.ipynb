{
    "cells": [
        {
            "cell_type": "markdown",
            "metadata": {
                "collapsed": true
            },
            "source": "# My Jupyter Notebook on IBM Watson Studio"
        },
        {
            "cell_type": "markdown",
            "metadata": {},
            "source": "**Pablo Espinal** Data scientist in the medical field."
        },
        {
            "cell_type": "markdown",
            "metadata": {},
            "source": "\n_I am interested in data science because is a main component of machine learning, deep learning and has a growing role in business analytics, all of which are of great importance for the areas I will like to be involved in._"
        },
        {
            "cell_type": "markdown",
            "metadata": {},
            "source": "### My code below multiplies two numbers"
        },
        {
            "cell_type": "code",
            "execution_count": 1,
            "metadata": {},
            "outputs": [
                {
                    "name": "stdout",
                    "output_type": "stream",
                    "text": "4\n"
                }
            ],
            "source": "a = 2\nb = 2\nprint(a*b)"
        },
        {
            "cell_type": "markdown",
            "metadata": {},
            "source": "<h6>Find horizontal rule, list and tables below</h6>\n<hr>\n<ol>\n    <li>First Item</li>\n    <li>Second Item</li>\n    <li>Third Item</li>\n</ol>\n<table>\n    <tr>\n        <td>Inside table</td>\n        <td>Inside table</td>\n    </tr>\n    <tr>\n        <td>Inside table</td>\n        <td>Inside table</td>\n    </tr>\n        <tr>\n        <td>Inside table</td>\n        <td>Inside table</td>\n    </tr>\n<hr>"
        },
        {
            "cell_type": "code",
            "execution_count": null,
            "metadata": {},
            "outputs": [],
            "source": ""
        }
    ],
    "metadata": {
        "kernelspec": {
            "display_name": "Python 3.10",
            "language": "python",
            "name": "python3"
        },
        "language_info": {
            "codemirror_mode": {
                "name": "ipython",
                "version": 3
            },
            "file_extension": ".py",
            "mimetype": "text/x-python",
            "name": "python",
            "nbconvert_exporter": "python",
            "pygments_lexer": "ipython3",
            "version": "3.10.6"
        }
    },
    "nbformat": 4,
    "nbformat_minor": 1
}